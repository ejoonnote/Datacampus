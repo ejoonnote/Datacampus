{
 "cells": [
  {
   "cell_type": "code",
   "execution_count": 1,
   "id": "3b76c451",
   "metadata": {},
   "outputs": [],
   "source": [
    "from sklearn.datasets import fetch_openml"
   ]
  },
  {
   "cell_type": "code",
   "execution_count": 3,
   "id": "5cd10e10",
   "metadata": {},
   "outputs": [],
   "source": [
    "mnist = fetch_openml('mnist_784', version =1)"
   ]
  },
  {
   "cell_type": "code",
   "execution_count": 4,
   "id": "2316cb8e",
   "metadata": {},
   "outputs": [],
   "source": [
    "X = mnist.data\n",
    "y = mnist.target"
   ]
  },
  {
   "cell_type": "code",
   "execution_count": 5,
   "id": "b45fe6eb",
   "metadata": {},
   "outputs": [
    {
     "name": "stdout",
     "output_type": "stream",
     "text": [
      "(70000, 784)\n",
      "(70000,)\n"
     ]
    }
   ],
   "source": [
    "import numpy as np\n",
    "\n",
    "print(X.shape)\n",
    "print(y.shape)"
   ]
  },
  {
   "cell_type": "code",
   "execution_count": 9,
   "id": "afec7b38",
   "metadata": {},
   "outputs": [
    {
     "data": {
      "text/plain": [
       "array(['0', '1', '2', '3', '4', '5', '6', '7', '8', '9'], dtype=object)"
      ]
     },
     "execution_count": 9,
     "metadata": {},
     "output_type": "execute_result"
    }
   ],
   "source": [
    "# 값 중에 유니크한 값들을 보여줌(중복제거)\n",
    "np.unique(y)"
   ]
  },
  {
   "cell_type": "code",
   "execution_count": 10,
   "id": "60e96c1f",
   "metadata": {},
   "outputs": [
    {
     "name": "stderr",
     "output_type": "stream",
     "text": [
      "<ipython-input-10-18535e954694>:2: DeprecationWarning: `np.int` is a deprecated alias for the builtin `int`. To silence this warning, use `int` by itself. Doing this will not modify any behavior and is safe. When replacing `np.int`, you may wish to use e.g. `np.int64` or `np.int32` to specify the precision. If you wish to review your current use, check the release note link for additional information.\n",
      "Deprecated in NumPy 1.20; for more details and guidance: https://numpy.org/devdocs/release/1.20.0-notes.html#deprecations\n",
      "  y = y.astype(np.int)\n"
     ]
    }
   ],
   "source": [
    "# 데이터 타입이 object이므로 int로 바꿔줌\n",
    "y = y.astype(np.int)"
   ]
  },
  {
   "cell_type": "code",
   "execution_count": 11,
   "id": "7d241639",
   "metadata": {},
   "outputs": [
    {
     "data": {
      "text/plain": [
       "array([0, 1, 2, 3, 4, 5, 6, 7, 8, 9])"
      ]
     },
     "execution_count": 11,
     "metadata": {},
     "output_type": "execute_result"
    }
   ],
   "source": [
    "np.unique(y)"
   ]
  },
  {
   "cell_type": "code",
   "execution_count": 12,
   "id": "a5c91f99",
   "metadata": {},
   "outputs": [],
   "source": [
    "from sklearn.model_selection import train_test_split\n",
    "\n",
    "X_train, X_test, y_train, y_test = train_test_split(X, y, test_size=0.3, random_state=1)"
   ]
  },
  {
   "cell_type": "code",
   "execution_count": 13,
   "id": "59dad81e",
   "metadata": {},
   "outputs": [
    {
     "name": "stderr",
     "output_type": "stream",
     "text": [
      "C:\\Users\\Administrator\\anaconda3\\lib\\site-packages\\sklearn\\neural_network\\_multilayer_perceptron.py:619: UserWarning: Training interrupted by user.\n",
      "  warnings.warn(\"Training interrupted by user.\")\n"
     ]
    }
   ],
   "source": [
    "from sklearn.neural_network import MLPClassifier \n",
    "\n",
    "mlp = MLPClassifier(learning_rate_init= 0.0001, max_iter=100, activation = 'relu', hidden_layer_sizes=(10,10))\n",
    "clf = mlp.fit(X_train, y_train)\n",
    "y_pred = clf.predict(X_test)"
   ]
  },
  {
   "cell_type": "code",
   "execution_count": 14,
   "id": "471f8305",
   "metadata": {},
   "outputs": [
    {
     "name": "stdout",
     "output_type": "stream",
     "text": [
      "정확도 : 0.9006190476190477\n",
      "[[1993    0    2    0    9    4   19    2   47    0]\n",
      " [   3 2291   22    5    3   11    3    3   38   11]\n",
      " [  13   11 1933   24   14    5   31   17   72    4]\n",
      " [  10    9   87 1802    1   69   10   21  137   19]\n",
      " [   3    5   13    1 1862    0   34   15   13  117]\n",
      " [  72   11    6   72   17 1568   48    5  101   23]\n",
      " [  34    0   15    0   22   32 1873    1   21    1]\n",
      " [  10    6   11   19   22    2    4 1953   60   69]\n",
      " [  36   21   44   17   13   31   23    9 1810   44]\n",
      " [   2    7    1    5   52   10    2   67   82 1828]]\n"
     ]
    }
   ],
   "source": [
    "import sklearn.metrics as mt\n",
    "\n",
    "print('정확도 :',mt.accuracy_score(y_test,y_pred))\n",
    "print(mt.confusion_matrix(y_test, y_pred))"
   ]
  },
  {
   "cell_type": "code",
   "execution_count": 15,
   "id": "08a637c7",
   "metadata": {},
   "outputs": [],
   "source": [
    "# X에 들어있던 데이터는 255이하의 값이므로 255로 나눠주면 정규화가 됨\n",
    "X = X/255\n",
    "# 이렇게 하고 다시 돌리면 정확도 향상 가능"
   ]
  },
  {
   "cell_type": "code",
   "execution_count": 16,
   "id": "b1cf8e41",
   "metadata": {},
   "outputs": [],
   "source": [
    "from sklearn.model_selection import train_test_split\n",
    "\n",
    "X_train, X_test, y_train, y_test = train_test_split(X, y, test_size=0.3, random_state=1)"
   ]
  },
  {
   "cell_type": "code",
   "execution_count": 17,
   "id": "91b21896",
   "metadata": {},
   "outputs": [
    {
     "name": "stderr",
     "output_type": "stream",
     "text": [
      "C:\\Users\\Administrator\\anaconda3\\lib\\site-packages\\sklearn\\neural_network\\_multilayer_perceptron.py:614: ConvergenceWarning: Stochastic Optimizer: Maximum iterations (100) reached and the optimization hasn't converged yet.\n",
      "  warnings.warn(\n"
     ]
    }
   ],
   "source": [
    "from sklearn.neural_network import MLPClassifier \n",
    "\n",
    "mlp = MLPClassifier(learning_rate_init= 0.0001, max_iter=100, activation = 'relu', hidden_layer_sizes=(10,10))\n",
    "clf = mlp.fit(X_train, y_train)\n",
    "y_pred = clf.predict(X_test)"
   ]
  },
  {
   "cell_type": "code",
   "execution_count": 18,
   "id": "00a66989",
   "metadata": {},
   "outputs": [
    {
     "name": "stdout",
     "output_type": "stream",
     "text": [
      "정확도 : 0.926952380952381\n",
      "[[1982    0   16    5    5   13   25    8   18    4]\n",
      " [   2 2314   19   24    0    2    1    3   21    4]\n",
      " [  16    7 1966   26   19    4   14   23   40    9]\n",
      " [  12   15   60 1923    2   60    1   27   44   21]\n",
      " [   4   14   15    1 1910    0   18    4   16   81]\n",
      " [  14   10    3   55   23 1750   29    3   23   13]\n",
      " [  21    2   18    0   12   20 1906    0   16    4]\n",
      " [   8   10   16    6   21    2    0 2019    4   70]\n",
      " [  15   34   25   35   13   38   12   10 1840   26]\n",
      " [   5   11    6   27   69    5    2   65   10 1856]]\n"
     ]
    }
   ],
   "source": [
    "import sklearn.metrics as mt\n",
    "\n",
    "print('정확도 :',mt.accuracy_score(y_test,y_pred))\n",
    "print(mt.confusion_matrix(y_test, y_pred))"
   ]
  }
 ],
 "metadata": {
  "kernelspec": {
   "display_name": "Python 3",
   "language": "python",
   "name": "python3"
  },
  "language_info": {
   "codemirror_mode": {
    "name": "ipython",
    "version": 3
   },
   "file_extension": ".py",
   "mimetype": "text/x-python",
   "name": "python",
   "nbconvert_exporter": "python",
   "pygments_lexer": "ipython3",
   "version": "3.8.8"
  }
 },
 "nbformat": 4,
 "nbformat_minor": 5
}
