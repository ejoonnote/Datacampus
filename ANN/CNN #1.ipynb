{
 "cells": [
  {
   "cell_type": "code",
   "execution_count": 13,
   "id": "2d15a156",
   "metadata": {},
   "outputs": [],
   "source": [
    "from sklearn.datasets import fetch_openml\n",
    "from sklearn.model_selection import train_test_split\n",
    "from tensorflow.keras.utils import to_categorical\n",
    "import numpy as np\n",
    "\n",
    "mnist = fetch_openml('mnist_784', version =1)"
   ]
  },
  {
   "cell_type": "code",
   "execution_count": 15,
   "id": "9b6ad841",
   "metadata": {},
   "outputs": [],
   "source": [
    "mnist.data = np.array(mnist.data)"
   ]
  },
  {
   "cell_type": "code",
   "execution_count": 19,
   "id": "ac281867",
   "metadata": {},
   "outputs": [],
   "source": [
    "mnist.target = np.array(mnist.target)"
   ]
  },
  {
   "cell_type": "code",
   "execution_count": 22,
   "id": "47d7d77b",
   "metadata": {},
   "outputs": [],
   "source": [
    "X =(mnist.data/255).reshape(len(mnist.data),28,28,1)\n",
    "y= to_categorical(mnist.target.astype(np.int), 10)\n",
    "\n",
    "X_train, X_test, y_train, y_test = train_test_split(X, y, test_size=0.3, random_state=1)"
   ]
  },
  {
   "cell_type": "code",
   "execution_count": 25,
   "id": "e707923b",
   "metadata": {},
   "outputs": [
    {
     "data": {
      "text/plain": [
       "<matplotlib.image.AxesImage at 0x21700dfe6d0>"
      ]
     },
     "execution_count": 25,
     "metadata": {},
     "output_type": "execute_result"
    },
    {
     "data": {
      "image/png": "[encoded data removed]",
      "text/plain": [
       "<Figure size 432x288 with 1 Axes>"
      ]
     },
     "metadata": {
      "needs_background": "light"
     },
     "output_type": "display_data"
    }
   ],
   "source": [
    "import matplotlib.pyplot as plt\n",
    "\n",
    "#층까지는 필요없음\n",
    "p = mnist.data[101].reshape(28,28)\n",
    "\n",
    "plt.imshow(p, cmap='bone')"
   ]
  },
  {
   "cell_type": "code",
   "execution_count": 28,
   "id": "633761bb",
   "metadata": {},
   "outputs": [],
   "source": [
    "from keras.models import Sequential\n",
    "from keras.layers import Dense,Flatten,Dropout\n",
    "from keras.layers.convolutional import Conv2D, MaxPooling2D\n",
    "\n",
    "model = Sequential()\n",
    "# 합성곱을 한 뒤에 pooing을 꼭 해야할 필요는 없음\n",
    "model.add(Conv2D(filters=32, kernel_size=(3,3), strides=(1,1), padding='same',\n",
    "                activation='relu', input_shape=(28,28,1)))\n",
    "# 두번째 층이므로 input_shape 필요없음\n",
    "model.add(Conv2D(filters=32, kernel_size=(3,3), strides=(1,1),\n",
    "                padding='same', activation='relu'))\n",
    "model.add(MaxPooling2D(pool_size=(2,2)))\n",
    "\n",
    "\n",
    "model.add(Conv2D(filters=64, kernel_size=(3,3), strides=(1,1), padding='same',\n",
    "                activation='relu'))\n",
    "model.add(Conv2D(filters=64, kernel_size=(3,3), strides=(1,1),\n",
    "                padding='same', activation='relu'))\n",
    "model.add(MaxPooling2D(pool_size=(2,2)))\n",
    "model.add(Flatten())\n",
    "model.add(Dense(units=128, activation='relu'))\n",
    "model.add(Dropout(0.25))\n",
    "model.add(Dense(units=10, activation='softmax'))"
   ]
  },
  {
   "cell_type": "code",
   "execution_count": 29,
   "id": "302cc332",
   "metadata": {},
   "outputs": [],
   "source": [
    "model.compile(loss='categorical_crossentropy', optimizer='adam', metrics=['accuracy'])"
   ]
  },
  {
   "cell_type": "code",
   "execution_count": 31,
   "id": "f2e312cf",
   "metadata": {},
   "outputs": [
    {
     "name": "stdout",
     "output_type": "stream",
     "text": [
      "Model: \"sequential\"\n",
      "_________________________________________________________________\n",
      "Layer (type)                 Output Shape              Param #   \n",
      "=================================================================\n",
      "conv2d (Conv2D)              (None, 28, 28, 32)        320       \n",
      "_________________________________________________________________\n",
      "conv2d_1 (Conv2D)            (None, 28, 28, 32)        9248      \n",
      "_________________________________________________________________\n",
      "max_pooling2d (MaxPooling2D) (None, 14, 14, 32)        0         \n",
      "_________________________________________________________________\n",
      "conv2d_2 (Conv2D)            (None, 14, 14, 64)        18496     \n",
      "_________________________________________________________________\n",
      "conv2d_3 (Conv2D)            (None, 14, 14, 64)        36928     \n",
      "_________________________________________________________________\n",
      "max_pooling2d_1 (MaxPooling2 (None, 7, 7, 64)          0         \n",
      "_________________________________________________________________\n",
      "flatten (Flatten)            (None, 3136)              0         \n",
      "_________________________________________________________________\n",
      "dense (Dense)                (None, 128)               401536    \n",
      "_________________________________________________________________\n",
      "dropout (Dropout)            (None, 128)               0         \n",
      "_________________________________________________________________\n",
      "dense_1 (Dense)              (None, 10)                1290      \n",
      "=================================================================\n",
      "Total params: 467,818\n",
      "Trainable params: 467,818\n",
      "Non-trainable params: 0\n",
      "_________________________________________________________________\n"
     ]
    }
   ],
   "source": [
    "model.summary()"
   ]
  },
  {
   "cell_type": "code",
   "execution_count": 32,
   "id": "83b92d43",
   "metadata": {},
   "outputs": [
    {
     "name": "stdout",
     "output_type": "stream",
     "text": [
      "Epoch 1/10\n",
      "490/490 - 138s - loss: 0.1892 - accuracy: 0.9414\n",
      "Epoch 2/10\n",
      "490/490 - 117s - loss: 0.0505 - accuracy: 0.9847\n",
      "Epoch 3/10\n",
      "490/490 - 121s - loss: 0.0356 - accuracy: 0.9888\n",
      "Epoch 4/10\n",
      "490/490 - 122s - loss: 0.0256 - accuracy: 0.9920\n",
      "Epoch 5/10\n",
      "490/490 - 121s - loss: 0.0202 - accuracy: 0.9934\n",
      "Epoch 6/10\n",
      "490/490 - 123s - loss: 0.0180 - accuracy: 0.9942\n",
      "Epoch 7/10\n",
      "490/490 - 125s - loss: 0.0146 - accuracy: 0.9949\n",
      "Epoch 8/10\n",
      "490/490 - 120s - loss: 0.0131 - accuracy: 0.9956\n",
      "Epoch 9/10\n",
      "490/490 - 123s - loss: 0.0115 - accuracy: 0.9963\n",
      "Epoch 10/10\n",
      "490/490 - 119s - loss: 0.0110 - accuracy: 0.9961\n"
     ]
    },
    {
     "data": {
      "text/plain": [
       "<keras.callbacks.History at 0x2170116b760>"
      ]
     },
     "execution_count": 32,
     "metadata": {},
     "output_type": "execute_result"
    }
   ],
   "source": [
    "model.fit(X_train, y_train, epochs=10, batch_size=100, verbose=2)"
   ]
  },
  {
   "cell_type": "code",
   "execution_count": 33,
   "id": "1e309aaf",
   "metadata": {},
   "outputs": [],
   "source": [
    "hist = model.fit(X_train, y_train, epochs=10, batch_size=100, verbose=0)"
   ]
  },
  {
   "cell_type": "code",
   "execution_count": 42,
   "id": "b68b168f",
   "metadata": {},
   "outputs": [
    {
     "data": {
      "text/plain": [
       "([0.9963469505310059,\n",
       "  0.9970816373825073,\n",
       "  0.9972652792930603,\n",
       "  0.9977551102638245,\n",
       "  0.9978979825973511,\n",
       "  0.9982244968414307,\n",
       "  0.9973673224449158,\n",
       "  0.997836709022522,\n",
       "  0.9980204105377197,\n",
       "  0.9984897971153259],\n",
       " [0.010541919618844986,\n",
       "  0.00823599100112915,\n",
       "  0.008312804624438286,\n",
       "  0.006423098035156727,\n",
       "  0.006897368002682924,\n",
       "  0.00504640955477953,\n",
       "  0.007532275747507811,\n",
       "  0.006811159662902355,\n",
       "  0.006201724521815777,\n",
       "  0.004187038633972406])"
      ]
     },
     "execution_count": 42,
     "metadata": {},
     "output_type": "execute_result"
    }
   ],
   "source": [
    "hist.history['accuracy'], hist.history['loss']"
   ]
  },
  {
   "cell_type": "code",
   "execution_count": 47,
   "id": "ed9a32d8",
   "metadata": {},
   "outputs": [
    {
     "data": {
      "image/png": "[encoded data removed]",
      "text/plain": [
       "<Figure size 360x864 with 1 Axes>"
      ]
     },
     "metadata": {
      "needs_background": "light"
     },
     "output_type": "display_data"
    }
   ],
   "source": [
    "plt.figure(figsize=(5,12))\n",
    "plt.plot(hist.history['loss'],c='red')\n",
    "plt.show()"
   ]
  },
  {
   "cell_type": "code",
   "execution_count": 38,
   "id": "ba5b16c7",
   "metadata": {},
   "outputs": [
    {
     "name": "stdout",
     "output_type": "stream",
     "text": [
      "657/657 [==============================] - 14s 19ms/step - loss: 0.0377 - accuracy: 0.9935\n"
     ]
    }
   ],
   "source": [
    "loss, acc =model.evaluate(X_test, y_test)"
   ]
  },
  {
   "cell_type": "code",
   "execution_count": 39,
   "id": "b1459ee8",
   "metadata": {},
   "outputs": [
    {
     "name": "stdout",
     "output_type": "stream",
     "text": [
      "정확도:  0.994\n",
      "손실값:  0.038\n"
     ]
    }
   ],
   "source": [
    "print('정확도: ', round(acc,3))\n",
    "print('손실값: ', round(loss,3))"
   ]
  },
  {
   "cell_type": "code",
   "execution_count": 45,
   "id": "1fe2f873",
   "metadata": {},
   "outputs": [],
   "source": [
    "y_pred = model.predict(X_test)"
   ]
  },
  {
   "cell_type": "code",
   "execution_count": null,
   "id": "6fa077d9",
   "metadata": {},
   "outputs": [],
   "source": []
  },
  {
   "cell_type": "code",
   "execution_count": null,
   "id": "313ff8c4",
   "metadata": {},
   "outputs": [],
   "source": []
  }
 ],
 "metadata": {
  "kernelspec": {
   "display_name": "Python 3",
   "language": "python",
   "name": "python3"
  },
  "language_info": {
   "codemirror_mode": {
    "name": "ipython",
    "version": 3
   },
   "file_extension": ".py",
   "mimetype": "text/x-python",
   "name": "python",
   "nbconvert_exporter": "python",
   "pygments_lexer": "ipython3",
   "version": "3.8.8"
  }
 },
 "nbformat": 4,
 "nbformat_minor": 5
}
