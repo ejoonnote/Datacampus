{
 "cells": [
  {
   "cell_type": "code",
   "execution_count": 1,
   "id": "17689e0a",
   "metadata": {},
   "outputs": [],
   "source": [
    "import tensorflow as tf\n",
    "from tensorflow import keras"
   ]
  },
  {
   "cell_type": "code",
   "execution_count": 2,
   "id": "f4e7e6f7",
   "metadata": {},
   "outputs": [
    {
     "data": {
      "text/plain": [
       "'2.5.0'"
      ]
     },
     "execution_count": 2,
     "metadata": {},
     "output_type": "execute_result"
    }
   ],
   "source": [
    "keras.__version__"
   ]
  },
  {
   "cell_type": "code",
   "execution_count": 3,
   "id": "a2b1a4d4",
   "metadata": {},
   "outputs": [
    {
     "name": "stdout",
     "output_type": "stream",
     "text": [
      "Help on package tensorflow.keras in tensorflow:\n",
      "\n",
      "NAME\n",
      "    tensorflow.keras - Implementation of the Keras API, the high-level API of TensorFlow.\n",
      "\n",
      "DESCRIPTION\n",
      "    Detailed documentation and user guides are available at\n",
      "    [keras.io](https://keras.io).\n",
      "\n",
      "PACKAGE CONTENTS\n",
      "    activations (package)\n",
      "    applications (package)\n",
      "    backend (package)\n",
      "    callbacks (package)\n",
      "    constraints (package)\n",
      "    datasets (package)\n",
      "    estimator (package)\n",
      "    experimental (package)\n",
      "    initializers (package)\n",
      "    layers (package)\n",
      "    losses (package)\n",
      "    metrics (package)\n",
      "    mixed_precision (package)\n",
      "    models (package)\n",
      "    optimizers (package)\n",
      "    premade (package)\n",
      "    preprocessing (package)\n",
      "    regularizers (package)\n",
      "    utils (package)\n",
      "    wrappers (package)\n",
      "\n",
      "VERSION\n",
      "    2.5.0\n",
      "\n",
      "FILE\n",
      "    c:\\users\\administrator\\anaconda3\\lib\\site-packages\\tensorflow\\keras\\__init__.py\n",
      "\n",
      "\n"
     ]
    }
   ],
   "source": [
    "help(keras)"
   ]
  },
  {
   "cell_type": "code",
   "execution_count": 4,
   "id": "9e33cb84",
   "metadata": {},
   "outputs": [],
   "source": [
    "from sklearn.datasets import load_iris\n",
    "\n",
    "iris = load_iris()"
   ]
  },
  {
   "cell_type": "code",
   "execution_count": 5,
   "id": "62f78b92",
   "metadata": {},
   "outputs": [],
   "source": [
    "X, y_ori = iris.data, iris.target"
   ]
  },
  {
   "cell_type": "code",
   "execution_count": 6,
   "id": "b6a58382",
   "metadata": {},
   "outputs": [],
   "source": [
    "from tensorflow.keras.utils import to_categorical\n",
    "\n",
    "y = to_categorical(y_ori,3)"
   ]
  },
  {
   "cell_type": "code",
   "execution_count": 10,
   "id": "177c76d9",
   "metadata": {},
   "outputs": [],
   "source": [
    "from sklearn.model_selection import train_test_split\n",
    "\n",
    "X_train, X_test, y_train, y_test = train_test_split(X,y,test_size=0.3, random_state =0)"
   ]
  },
  {
   "cell_type": "code",
   "execution_count": 18,
   "id": "acc549ac",
   "metadata": {},
   "outputs": [],
   "source": [
    "from keras.models import Sequential\n",
    "from keras.layers import Dense\n",
    "\n",
    "model = Sequential()\n",
    "# 입력층\n",
    "model.add(Dense(units=8, input_dim =4, kernel_initializer = 'uniform', activation='relu'))\n",
    "# 출력층\n",
    "# softmax는 층이 출력층일 때 사용\n",
    "model.add(Dense(units=3, activation='softmax'))"
   ]
  },
  {
   "cell_type": "code",
   "execution_count": 19,
   "id": "523f3f21",
   "metadata": {},
   "outputs": [],
   "source": [
    "# 이진분류 loss= 'binary_crossentropy', 다중 클래스 분류 'categorical_crossentropy'\n",
    "# metrics=[] 은 하나의 인자를 적어도 괄호 필요\n",
    "model.compile(loss='categorical_crossentropy', optimizer='adam', metrics=['accuracy'])"
   ]
  },
  {
   "cell_type": "code",
   "execution_count": 20,
   "id": "6b894afd",
   "metadata": {},
   "outputs": [
    {
     "name": "stdout",
     "output_type": "stream",
     "text": [
      "Model: \"sequential_3\"\n",
      "_________________________________________________________________\n",
      "Layer (type)                 Output Shape              Param #   \n",
      "=================================================================\n",
      "dense_4 (Dense)              (None, 8)                 40        \n",
      "_________________________________________________________________\n",
      "dense_5 (Dense)              (None, 3)                 27        \n",
      "=================================================================\n",
      "Total params: 67\n",
      "Trainable params: 67\n",
      "Non-trainable params: 0\n",
      "_________________________________________________________________\n"
     ]
    }
   ],
   "source": [
    "model.summary()"
   ]
  },
  {
   "cell_type": "code",
   "execution_count": 21,
   "id": "2cd7471e",
   "metadata": {},
   "outputs": [
    {
     "name": "stdout",
     "output_type": "stream",
     "text": [
      "Epoch 1/100\n",
      "105/105 - 20s - loss: 1.1043 - accuracy: 0.3619\n",
      "Epoch 2/100\n",
      "105/105 - 0s - loss: 1.0616 - accuracy: 0.6857\n",
      "Epoch 3/100\n",
      "105/105 - 0s - loss: 1.0263 - accuracy: 0.6952\n",
      "Epoch 4/100\n",
      "105/105 - 0s - loss: 0.9890 - accuracy: 0.6857\n",
      "Epoch 5/100\n",
      "105/105 - 0s - loss: 0.9422 - accuracy: 0.6952\n",
      "Epoch 6/100\n",
      "105/105 - 0s - loss: 0.9001 - accuracy: 0.6952\n",
      "Epoch 7/100\n",
      "105/105 - 0s - loss: 0.8545 - accuracy: 0.6952\n",
      "Epoch 8/100\n",
      "105/105 - 0s - loss: 0.8183 - accuracy: 0.6952\n",
      "Epoch 9/100\n",
      "105/105 - 0s - loss: 0.7861 - accuracy: 0.6952\n",
      "Epoch 10/100\n",
      "105/105 - 0s - loss: 0.7582 - accuracy: 0.6952\n",
      "Epoch 11/100\n",
      "105/105 - 0s - loss: 0.7334 - accuracy: 0.6952\n",
      "Epoch 12/100\n",
      "105/105 - 0s - loss: 0.7123 - accuracy: 0.6952\n",
      "Epoch 13/100\n",
      "105/105 - 0s - loss: 0.6945 - accuracy: 0.6952\n",
      "Epoch 14/100\n",
      "105/105 - 0s - loss: 0.6779 - accuracy: 0.6952\n",
      "Epoch 15/100\n",
      "105/105 - 0s - loss: 0.6637 - accuracy: 0.6952\n",
      "Epoch 16/100\n",
      "105/105 - 0s - loss: 0.6510 - accuracy: 0.6952\n",
      "Epoch 17/100\n",
      "105/105 - 0s - loss: 0.6393 - accuracy: 0.6952\n",
      "Epoch 18/100\n",
      "105/105 - 0s - loss: 0.6283 - accuracy: 0.6952\n",
      "Epoch 19/100\n",
      "105/105 - 0s - loss: 0.6189 - accuracy: 0.6952\n",
      "Epoch 20/100\n",
      "105/105 - 0s - loss: 0.6095 - accuracy: 0.6952\n",
      "Epoch 21/100\n",
      "105/105 - 0s - loss: 0.6009 - accuracy: 0.6952\n",
      "Epoch 22/100\n",
      "105/105 - 0s - loss: 0.5929 - accuracy: 0.6952\n",
      "Epoch 23/100\n",
      "105/105 - 0s - loss: 0.5864 - accuracy: 0.6952\n",
      "Epoch 24/100\n",
      "105/105 - 0s - loss: 0.5792 - accuracy: 0.6952\n",
      "Epoch 25/100\n",
      "105/105 - 0s - loss: 0.5734 - accuracy: 0.6952\n",
      "Epoch 26/100\n",
      "105/105 - 0s - loss: 0.5673 - accuracy: 0.6952\n",
      "Epoch 27/100\n",
      "105/105 - 0s - loss: 0.5619 - accuracy: 0.6952\n",
      "Epoch 28/100\n",
      "105/105 - 0s - loss: 0.5568 - accuracy: 0.6952\n",
      "Epoch 29/100\n",
      "105/105 - 0s - loss: 0.5522 - accuracy: 0.6952\n",
      "Epoch 30/100\n",
      "105/105 - 0s - loss: 0.5478 - accuracy: 0.6952\n",
      "Epoch 31/100\n",
      "105/105 - 0s - loss: 0.5434 - accuracy: 0.6952\n",
      "Epoch 32/100\n",
      "105/105 - 0s - loss: 0.5396 - accuracy: 0.6952\n",
      "Epoch 33/100\n",
      "105/105 - 0s - loss: 0.5355 - accuracy: 0.6952\n",
      "Epoch 34/100\n",
      "105/105 - 0s - loss: 0.5314 - accuracy: 0.6952\n",
      "Epoch 35/100\n",
      "105/105 - 0s - loss: 0.5228 - accuracy: 0.7905\n",
      "Epoch 36/100\n",
      "105/105 - 0s - loss: 0.5097 - accuracy: 0.8762\n",
      "Epoch 37/100\n",
      "105/105 - 0s - loss: 0.4874 - accuracy: 0.9714\n",
      "Epoch 38/100\n",
      "105/105 - 0s - loss: 0.4685 - accuracy: 0.9619\n",
      "Epoch 39/100\n",
      "105/105 - 0s - loss: 0.4564 - accuracy: 0.9524\n",
      "Epoch 40/100\n",
      "105/105 - 0s - loss: 0.4400 - accuracy: 0.9429\n",
      "Epoch 41/100\n",
      "105/105 - 0s - loss: 0.4292 - accuracy: 0.9429\n",
      "Epoch 42/100\n",
      "105/105 - 0s - loss: 0.4147 - accuracy: 0.9429\n",
      "Epoch 43/100\n",
      "105/105 - 0s - loss: 0.4026 - accuracy: 0.9619\n",
      "Epoch 44/100\n",
      "105/105 - 0s - loss: 0.3909 - accuracy: 0.9333\n",
      "Epoch 45/100\n",
      "105/105 - 0s - loss: 0.3777 - accuracy: 0.9619\n",
      "Epoch 46/100\n",
      "105/105 - 0s - loss: 0.3673 - accuracy: 0.9333\n",
      "Epoch 47/100\n",
      "105/105 - 0s - loss: 0.3613 - accuracy: 0.9238\n",
      "Epoch 48/100\n",
      "105/105 - 0s - loss: 0.3438 - accuracy: 0.9333\n",
      "Epoch 49/100\n",
      "105/105 - 0s - loss: 0.3399 - accuracy: 0.9524\n",
      "Epoch 50/100\n",
      "105/105 - 0s - loss: 0.3321 - accuracy: 0.9524\n",
      "Epoch 51/100\n",
      "105/105 - 0s - loss: 0.3263 - accuracy: 0.9429\n",
      "Epoch 52/100\n",
      "105/105 - 0s - loss: 0.3140 - accuracy: 0.9524\n",
      "Epoch 53/100\n",
      "105/105 - 0s - loss: 0.3090 - accuracy: 0.9619\n",
      "Epoch 54/100\n",
      "105/105 - 0s - loss: 0.3007 - accuracy: 0.9619\n",
      "Epoch 55/100\n",
      "105/105 - 0s - loss: 0.2930 - accuracy: 0.9429\n",
      "Epoch 56/100\n",
      "105/105 - 0s - loss: 0.2877 - accuracy: 0.9619\n",
      "Epoch 57/100\n",
      "105/105 - 0s - loss: 0.2778 - accuracy: 0.9714\n",
      "Epoch 58/100\n",
      "105/105 - 0s - loss: 0.2748 - accuracy: 0.9810\n",
      "Epoch 59/100\n",
      "105/105 - 0s - loss: 0.2704 - accuracy: 0.9333\n",
      "Epoch 60/100\n",
      "105/105 - 0s - loss: 0.2583 - accuracy: 0.9714\n",
      "Epoch 61/100\n",
      "105/105 - 0s - loss: 0.2545 - accuracy: 0.9524\n",
      "Epoch 62/100\n",
      "105/105 - 0s - loss: 0.2505 - accuracy: 0.9429\n",
      "Epoch 63/100\n",
      "105/105 - 0s - loss: 0.2428 - accuracy: 0.9524\n",
      "Epoch 64/100\n",
      "105/105 - 0s - loss: 0.2408 - accuracy: 0.9619\n",
      "Epoch 65/100\n",
      "105/105 - 0s - loss: 0.2321 - accuracy: 0.9714\n",
      "Epoch 66/100\n",
      "105/105 - 0s - loss: 0.2305 - accuracy: 0.9619\n",
      "Epoch 67/100\n",
      "105/105 - 0s - loss: 0.2229 - accuracy: 0.9524\n",
      "Epoch 68/100\n",
      "105/105 - 0s - loss: 0.2192 - accuracy: 0.9524\n",
      "Epoch 69/100\n",
      "105/105 - 0s - loss: 0.2167 - accuracy: 0.9429\n",
      "Epoch 70/100\n",
      "105/105 - 0s - loss: 0.2114 - accuracy: 0.9619\n",
      "Epoch 71/100\n",
      "105/105 - 0s - loss: 0.2115 - accuracy: 0.9429\n",
      "Epoch 72/100\n",
      "105/105 - 0s - loss: 0.2049 - accuracy: 0.9619\n",
      "Epoch 73/100\n",
      "105/105 - 0s - loss: 0.2013 - accuracy: 0.9619\n",
      "Epoch 74/100\n",
      "105/105 - 0s - loss: 0.1947 - accuracy: 0.9619\n",
      "Epoch 75/100\n",
      "105/105 - 0s - loss: 0.1895 - accuracy: 0.9619\n",
      "Epoch 76/100\n",
      "105/105 - 0s - loss: 0.1940 - accuracy: 0.9524\n",
      "Epoch 77/100\n",
      "105/105 - 0s - loss: 0.1870 - accuracy: 0.9619\n",
      "Epoch 78/100\n",
      "105/105 - 0s - loss: 0.1860 - accuracy: 0.9619\n",
      "Epoch 79/100\n",
      "105/105 - 0s - loss: 0.1803 - accuracy: 0.9810\n",
      "Epoch 80/100\n",
      "105/105 - 0s - loss: 0.1830 - accuracy: 0.9619\n",
      "Epoch 81/100\n",
      "105/105 - 0s - loss: 0.1743 - accuracy: 0.9619\n",
      "Epoch 82/100\n",
      "105/105 - 0s - loss: 0.1694 - accuracy: 0.9524\n",
      "Epoch 83/100\n",
      "105/105 - 0s - loss: 0.1631 - accuracy: 0.9619\n",
      "Epoch 84/100\n",
      "105/105 - 0s - loss: 0.1701 - accuracy: 0.9714\n",
      "Epoch 85/100\n",
      "105/105 - 0s - loss: 0.1620 - accuracy: 0.9714\n",
      "Epoch 86/100\n",
      "105/105 - 0s - loss: 0.1616 - accuracy: 0.9619\n",
      "Epoch 87/100\n",
      "105/105 - 0s - loss: 0.1609 - accuracy: 0.9524\n",
      "Epoch 88/100\n",
      "105/105 - 0s - loss: 0.1520 - accuracy: 0.9619\n",
      "Epoch 89/100\n",
      "105/105 - 0s - loss: 0.1539 - accuracy: 0.9524\n",
      "Epoch 90/100\n",
      "105/105 - 0s - loss: 0.1559 - accuracy: 0.9524\n",
      "Epoch 91/100\n",
      "105/105 - 0s - loss: 0.1501 - accuracy: 0.9619\n",
      "Epoch 92/100\n",
      "105/105 - 0s - loss: 0.1458 - accuracy: 0.9524\n",
      "Epoch 93/100\n",
      "105/105 - 0s - loss: 0.1466 - accuracy: 0.9429\n",
      "Epoch 94/100\n",
      "105/105 - 0s - loss: 0.1411 - accuracy: 0.9619\n",
      "Epoch 95/100\n",
      "105/105 - 0s - loss: 0.1419 - accuracy: 0.9524\n",
      "Epoch 96/100\n",
      "105/105 - 0s - loss: 0.1377 - accuracy: 0.9524\n",
      "Epoch 97/100\n",
      "105/105 - 0s - loss: 0.1374 - accuracy: 0.9619\n",
      "Epoch 98/100\n",
      "105/105 - 0s - loss: 0.1426 - accuracy: 0.9524\n",
      "Epoch 99/100\n",
      "105/105 - 0s - loss: 0.1335 - accuracy: 0.9714\n",
      "Epoch 100/100\n",
      "105/105 - 0s - loss: 0.1352 - accuracy: 0.9619\n"
     ]
    },
    {
     "data": {
      "text/plain": [
       "<keras.callbacks.History at 0x1eb88e8c790>"
      ]
     },
     "execution_count": 21,
     "metadata": {},
     "output_type": "execute_result"
    }
   ],
   "source": [
    "model.fit(X_train, y_train, epochs=100, batch_size=1, verbose=2)"
   ]
  },
  {
   "cell_type": "code",
   "execution_count": 22,
   "id": "7f87397d",
   "metadata": {},
   "outputs": [],
   "source": [
    "# history => 사전\n",
    "hist = model.fit(X_train, y_train, epochs=100, batch_size=1, verbose=0)"
   ]
  },
  {
   "cell_type": "code",
   "execution_count": 23,
   "id": "c8fb9495",
   "metadata": {},
   "outputs": [
    {
     "data": {
      "text/plain": [
       "[0.961904764175415,\n",
       " 0.9523809552192688,\n",
       " 0.9809523820877075,\n",
       " 0.961904764175415,\n",
       " 0.9714285731315613,\n",
       " 0.9714285731315613,\n",
       " 0.9333333373069763,\n",
       " 0.9714285731315613,\n",
       " 0.961904764175415,\n",
       " 0.9714285731315613,\n",
       " 0.9714285731315613,\n",
       " 0.961904764175415,\n",
       " 0.9523809552192688,\n",
       " 0.961904764175415,\n",
       " 0.9714285731315613,\n",
       " 0.961904764175415,\n",
       " 0.9428571462631226,\n",
       " 0.961904764175415,\n",
       " 0.9714285731315613,\n",
       " 0.9809523820877075,\n",
       " 0.9523809552192688,\n",
       " 0.9714285731315613,\n",
       " 0.9428571462631226,\n",
       " 0.9523809552192688,\n",
       " 0.961904764175415,\n",
       " 0.961904764175415,\n",
       " 0.9809523820877075,\n",
       " 0.9714285731315613,\n",
       " 0.9714285731315613,\n",
       " 0.9523809552192688,\n",
       " 0.9523809552192688,\n",
       " 0.9809523820877075,\n",
       " 0.961904764175415,\n",
       " 0.961904764175415,\n",
       " 0.961904764175415,\n",
       " 0.9714285731315613,\n",
       " 0.9809523820877075,\n",
       " 0.961904764175415,\n",
       " 0.961904764175415,\n",
       " 0.9523809552192688,\n",
       " 0.9523809552192688,\n",
       " 0.961904764175415,\n",
       " 0.961904764175415,\n",
       " 0.9714285731315613,\n",
       " 0.9714285731315613,\n",
       " 0.961904764175415,\n",
       " 0.9523809552192688,\n",
       " 0.9714285731315613,\n",
       " 0.9904761910438538,\n",
       " 0.961904764175415,\n",
       " 0.9523809552192688,\n",
       " 0.9714285731315613,\n",
       " 0.961904764175415,\n",
       " 0.961904764175415,\n",
       " 0.9523809552192688,\n",
       " 0.9714285731315613,\n",
       " 0.9714285731315613,\n",
       " 0.9714285731315613,\n",
       " 0.9809523820877075,\n",
       " 0.961904764175415,\n",
       " 0.9714285731315613,\n",
       " 0.961904764175415,\n",
       " 0.9714285731315613,\n",
       " 0.961904764175415,\n",
       " 0.9714285731315613,\n",
       " 0.961904764175415,\n",
       " 0.9714285731315613,\n",
       " 0.9714285731315613,\n",
       " 0.9714285731315613,\n",
       " 0.961904764175415,\n",
       " 0.961904764175415,\n",
       " 0.9809523820877075,\n",
       " 0.9523809552192688,\n",
       " 0.961904764175415,\n",
       " 0.961904764175415,\n",
       " 0.9714285731315613,\n",
       " 0.9714285731315613,\n",
       " 0.9523809552192688,\n",
       " 0.961904764175415,\n",
       " 0.9714285731315613,\n",
       " 0.9523809552192688,\n",
       " 0.961904764175415,\n",
       " 0.961904764175415,\n",
       " 0.961904764175415,\n",
       " 0.961904764175415,\n",
       " 0.9714285731315613,\n",
       " 0.9809523820877075,\n",
       " 0.961904764175415,\n",
       " 0.9714285731315613,\n",
       " 0.9809523820877075,\n",
       " 0.9809523820877075,\n",
       " 0.961904764175415,\n",
       " 0.9714285731315613,\n",
       " 0.9714285731315613,\n",
       " 0.961904764175415,\n",
       " 0.961904764175415,\n",
       " 0.9714285731315613,\n",
       " 0.961904764175415,\n",
       " 0.961904764175415,\n",
       " 0.961904764175415]"
      ]
     },
     "execution_count": 23,
     "metadata": {},
     "output_type": "execute_result"
    }
   ],
   "source": [
    "hist.history['accuracy']"
   ]
  },
  {
   "cell_type": "code",
   "execution_count": 24,
   "id": "ae382965",
   "metadata": {},
   "outputs": [
    {
     "data": {
      "text/plain": [
       "[0.13113969564437866,\n",
       " 0.13231027126312256,\n",
       " 0.12746009230613708,\n",
       " 0.12537860870361328,\n",
       " 0.12207486480474472,\n",
       " 0.12511934340000153,\n",
       " 0.12660090625286102,\n",
       " 0.12066145986318588,\n",
       " 0.12106283009052277,\n",
       " 0.12002993375062943,\n",
       " 0.11918611079454422,\n",
       " 0.1173948273062706,\n",
       " 0.11490704864263535,\n",
       " 0.1142754852771759,\n",
       " 0.11171053349971771,\n",
       " 0.11006281524896622,\n",
       " 0.11654090881347656,\n",
       " 0.11057981848716736,\n",
       " 0.11189095675945282,\n",
       " 0.10130836069583893,\n",
       " 0.11098846048116684,\n",
       " 0.11053581535816193,\n",
       " 0.11190634220838547,\n",
       " 0.10580303519964218,\n",
       " 0.10509207844734192,\n",
       " 0.10308067500591278,\n",
       " 0.09745725989341736,\n",
       " 0.10580827295780182,\n",
       " 0.10175984352827072,\n",
       " 0.10123427957296371,\n",
       " 0.09795832633972168,\n",
       " 0.09821771085262299,\n",
       " 0.09839402884244919,\n",
       " 0.09883162379264832,\n",
       " 0.09621159732341766,\n",
       " 0.09578542411327362,\n",
       " 0.0938326045870781,\n",
       " 0.09735315293073654,\n",
       " 0.09464847296476364,\n",
       " 0.09473547339439392,\n",
       " 0.09569014608860016,\n",
       " 0.0951981320977211,\n",
       " 0.09642745554447174,\n",
       " 0.0855972170829773,\n",
       " 0.09126970171928406,\n",
       " 0.09196412563323975,\n",
       " 0.09037415683269501,\n",
       " 0.09009826183319092,\n",
       " 0.08272107690572739,\n",
       " 0.08754345029592514,\n",
       " 0.08871360123157501,\n",
       " 0.08581001311540604,\n",
       " 0.08685396611690521,\n",
       " 0.08704520016908646,\n",
       " 0.08550451695919037,\n",
       " 0.08785927295684814,\n",
       " 0.08538714796304703,\n",
       " 0.08227504789829254,\n",
       " 0.08417080342769623,\n",
       " 0.08240760862827301,\n",
       " 0.08589177578687668,\n",
       " 0.08625481277704239,\n",
       " 0.0808069035410881,\n",
       " 0.08474255353212357,\n",
       " 0.08307059854269028,\n",
       " 0.08642752468585968,\n",
       " 0.07913407683372498,\n",
       " 0.08531264960765839,\n",
       " 0.08000592887401581,\n",
       " 0.08434592932462692,\n",
       " 0.0956997498869896,\n",
       " 0.07732401043176651,\n",
       " 0.08033577352762222,\n",
       " 0.08252400159835815,\n",
       " 0.08288998156785965,\n",
       " 0.07824207842350006,\n",
       " 0.07427195459604263,\n",
       " 0.0777067095041275,\n",
       " 0.08098715543746948,\n",
       " 0.08169426023960114,\n",
       " 0.07977571338415146,\n",
       " 0.07756859064102173,\n",
       " 0.0813322439789772,\n",
       " 0.08181636780500412,\n",
       " 0.07597899436950684,\n",
       " 0.07449740916490555,\n",
       " 0.07894089818000793,\n",
       " 0.07843839377164841,\n",
       " 0.07299644500017166,\n",
       " 0.07262012362480164,\n",
       " 0.07255376875400543,\n",
       " 0.07776156067848206,\n",
       " 0.07115696370601654,\n",
       " 0.07247035205364227,\n",
       " 0.0723743885755539,\n",
       " 0.07074703276157379,\n",
       " 0.07161465287208557,\n",
       " 0.0712515264749527,\n",
       " 0.0769466832280159,\n",
       " 0.07148165255784988]"
      ]
     },
     "execution_count": 24,
     "metadata": {},
     "output_type": "execute_result"
    }
   ],
   "source": [
    "hist.history['loss']"
   ]
  },
  {
   "cell_type": "code",
   "execution_count": 32,
   "id": "c2e4faca",
   "metadata": {
    "scrolled": true
   },
   "outputs": [
    {
     "data": {
      "image/png": "[encoded data removed]",
      "text/plain": [
       "<Figure size 360x360 with 1 Axes>"
      ]
     },
     "metadata": {
      "needs_background": "light"
     },
     "output_type": "display_data"
    }
   ],
   "source": [
    "import matplotlib.pyplot as plt\n",
    "\n",
    "plt.figure(figsize= (5,5))\n",
    "plt.plot(hist.history['loss'])\n",
    "plt.show()"
   ]
  },
  {
   "cell_type": "code",
   "execution_count": 28,
   "id": "d17bd049",
   "metadata": {},
   "outputs": [
    {
     "name": "stdout",
     "output_type": "stream",
     "text": [
      "2/2 [==============================] - 1s 3ms/step - loss: 0.0917 - accuracy: 0.9778\n"
     ]
    }
   ],
   "source": [
    "# batch_szie 크기만큼 유지\n",
    "loss, acc = model.evaluate(X_test, y_test)"
   ]
  },
  {
   "cell_type": "code",
   "execution_count": 29,
   "id": "17b578fa",
   "metadata": {},
   "outputs": [
    {
     "name": "stdout",
     "output_type": "stream",
     "text": [
      "손실값 :  0.092\n",
      "정확도 : 0.978\n"
     ]
    }
   ],
   "source": [
    "print('손실값 : ', round(loss,3))\n",
    "print('정확도 :', round(acc,3))"
   ]
  },
  {
   "cell_type": "code",
   "execution_count": 34,
   "id": "5d44517e",
   "metadata": {},
   "outputs": [
    {
     "name": "stdout",
     "output_type": "stream",
     "text": [
      "[[3.43 6.99 4.73 6.89]\n",
      " [6.95 8.46 5.19 9.71]\n",
      " [1.39 9.88 6.17 1.9 ]]\n"
     ]
    }
   ],
   "source": [
    "from numpy.random import random\n",
    "from numpy import round\n",
    "\n",
    "X_new = round(random([3,4]) * 10, 2)\n",
    "print(X_new)"
   ]
  },
  {
   "cell_type": "code",
   "execution_count": 35,
   "id": "a74b282e",
   "metadata": {},
   "outputs": [
    {
     "name": "stdout",
     "output_type": "stream",
     "text": [
      "[[9.2674571e-05 3.4459680e-02 9.6544772e-01]\n",
      " [8.8067529e-05 3.2225303e-02 9.6768659e-01]\n",
      " [5.1900321e-01 4.7074017e-01 1.0256686e-02]]\n"
     ]
    }
   ],
   "source": [
    "# 확률 값을 보고 할 경우\n",
    "y_pred = model.predict(X_new)\n",
    "print(y_pred)"
   ]
  },
  {
   "cell_type": "code",
   "execution_count": 36,
   "id": "8486e6fc",
   "metadata": {},
   "outputs": [
    {
     "name": "stdout",
     "output_type": "stream",
     "text": [
      "[2 2 0]\n"
     ]
    },
    {
     "name": "stderr",
     "output_type": "stream",
     "text": [
      "C:\\Users\\Administrator\\anaconda3\\lib\\site-packages\\keras\\engine\\sequential.py:450: UserWarning: `model.predict_classes()` is deprecated and will be removed after 2021-01-01. Please use instead:* `np.argmax(model.predict(x), axis=-1)`,   if your model does multi-class classification   (e.g. if it uses a `softmax` last-layer activation).* `(model.predict(x) > 0.5).astype(\"int32\")`,   if your model does binary classification   (e.g. if it uses a `sigmoid` last-layer activation).\n",
      "  warnings.warn('`model.predict_classes()` is deprecated and '\n"
     ]
    }
   ],
   "source": [
    "# 확률 값 필요없이 클래스만 나타낼 경우\n",
    "y_pred_class = model.predict_classes(X_new)\n",
    "print(y_pred_class)"
   ]
  },
  {
   "cell_type": "code",
   "execution_count": 38,
   "id": "9be082ca",
   "metadata": {},
   "outputs": [],
   "source": [
    "import tensorflow as tf\n",
    "from tensorflow import keras\n",
    "from sklearn.model_selection import train_test_split\n",
    "from sklearn.datasets import fetch_openml\n",
    "from sklearn.metrics import accuracy_score, confusion_matrix\n",
    "import numpy as np\n",
    "from tensorflow.keras.utils import to_categorical\n",
    "from keras.models import Sequential\n",
    "from keras.layers import Dense\n",
    "from keras.optimizers import Adam"
   ]
  },
  {
   "cell_type": "code",
   "execution_count": 39,
   "id": "cdec6d5a",
   "metadata": {},
   "outputs": [],
   "source": [
    "mnist = fetch_openml('mnist_784', version=1)\n",
    "X = mnist.data\n",
    "y_ori= mnist.target.astype(np.int)\n",
    "y = to_categorical(y_ori,10)\n",
    "\n",
    "X_train, X_test, y_train, y_test =train_test_split(X,y,test_size=0.3, random_state=1)"
   ]
  },
  {
   "cell_type": "code",
   "execution_count": 51,
   "id": "8841ab00",
   "metadata": {},
   "outputs": [],
   "source": [
    "model_1 = Sequential()\n",
    "# 첫번째 은닉층\n",
    "model_1.add(Dense(units=20, input_dim =784, activation='relu'))\n",
    "# 두번째 은닉층\n",
    "model_1.add(Dense(units=15, activation='relu'))\n",
    "# 출력층\n",
    "# softmax는 층이 출력층일 때 사용\n",
    "model_1.add(Dense(units=10, activation='softmax'))"
   ]
  },
  {
   "cell_type": "code",
   "execution_count": 52,
   "id": "ec6ff3c1",
   "metadata": {},
   "outputs": [],
   "source": [
    "# Adam을 import 하면 method로 사용가능\n",
    "model_1.compile(loss='categorical_crossentropy', optimizer=Adam(learning_rate=0.001) , metrics=['accuracy'])"
   ]
  },
  {
   "cell_type": "code",
   "execution_count": 53,
   "id": "e4c38472",
   "metadata": {},
   "outputs": [
    {
     "name": "stdout",
     "output_type": "stream",
     "text": [
      "Model: \"sequential_7\"\n",
      "_________________________________________________________________\n",
      "Layer (type)                 Output Shape              Param #   \n",
      "=================================================================\n",
      "dense_15 (Dense)             (None, 20)                15700     \n",
      "_________________________________________________________________\n",
      "dense_16 (Dense)             (None, 15)                315       \n",
      "_________________________________________________________________\n",
      "dense_17 (Dense)             (None, 10)                160       \n",
      "=================================================================\n",
      "Total params: 16,175\n",
      "Trainable params: 16,175\n",
      "Non-trainable params: 0\n",
      "_________________________________________________________________\n"
     ]
    }
   ],
   "source": [
    "model_1.summary()"
   ]
  },
  {
   "cell_type": "code",
   "execution_count": 54,
   "id": "f9f5410e",
   "metadata": {},
   "outputs": [
    {
     "name": "stdout",
     "output_type": "stream",
     "text": [
      "Epoch 1/10\n",
      "490/490 - 3s - loss: 3.6874 - accuracy: 0.3769 - val_loss: 1.5579 - val_accuracy: 0.4768\n",
      "Epoch 2/10\n",
      "490/490 - 1s - loss: 1.3408 - accuracy: 0.5391 - val_loss: 1.1718 - val_accuracy: 0.6333\n",
      "Epoch 3/10\n",
      "490/490 - 1s - loss: 0.9862 - accuracy: 0.6808 - val_loss: 0.8917 - val_accuracy: 0.7156\n",
      "Epoch 4/10\n",
      "490/490 - 1s - loss: 0.8017 - accuracy: 0.7520 - val_loss: 0.7442 - val_accuracy: 0.7763\n",
      "Epoch 5/10\n",
      "490/490 - 1s - loss: 0.6453 - accuracy: 0.8232 - val_loss: 0.6350 - val_accuracy: 0.8294\n",
      "Epoch 6/10\n",
      "490/490 - 1s - loss: 0.5594 - accuracy: 0.8543 - val_loss: 0.5750 - val_accuracy: 0.8491\n",
      "Epoch 7/10\n",
      "490/490 - 1s - loss: 0.4983 - accuracy: 0.8689 - val_loss: 0.5406 - val_accuracy: 0.8650\n",
      "Epoch 8/10\n",
      "490/490 - 1s - loss: 0.4625 - accuracy: 0.8763 - val_loss: 0.4956 - val_accuracy: 0.8703\n",
      "Epoch 9/10\n",
      "490/490 - 1s - loss: 0.4337 - accuracy: 0.8846 - val_loss: 0.4784 - val_accuracy: 0.8768\n",
      "Epoch 10/10\n",
      "490/490 - 1s - loss: 0.4070 - accuracy: 0.8910 - val_loss: 0.4730 - val_accuracy: 0.8790\n"
     ]
    }
   ],
   "source": [
    "hist = model_1.fit(X_train, y_train, validation_data=(X_test, y_test),\n",
    "           epochs=10, batch_size=100, verbose=2)"
   ]
  },
  {
   "cell_type": "code",
   "execution_count": 56,
   "id": "28d8ea0d",
   "metadata": {},
   "outputs": [
    {
     "name": "stdout",
     "output_type": "stream",
     "text": [
      "657/657 [==============================] - 2s 2ms/step - loss: 0.4730 - accuracy: 0.8790\n",
      "정확도 : 0.8790000081062317\n",
      "손실 :  0.47301584482192993\n"
     ]
    }
   ],
   "source": [
    "loss, acc = model_1.evaluate(X_test, y_test)\n",
    "print('정확도 :',acc)\n",
    "print('손실 : ', loss)"
   ]
  },
  {
   "cell_type": "code",
   "execution_count": 57,
   "id": "b6d006e2",
   "metadata": {},
   "outputs": [
    {
     "name": "stderr",
     "output_type": "stream",
     "text": [
      "C:\\Users\\Administrator\\anaconda3\\lib\\site-packages\\keras\\engine\\sequential.py:450: UserWarning: `model.predict_classes()` is deprecated and will be removed after 2021-01-01. Please use instead:* `np.argmax(model.predict(x), axis=-1)`,   if your model does multi-class classification   (e.g. if it uses a `softmax` last-layer activation).* `(model.predict(x) > 0.5).astype(\"int32\")`,   if your model does binary classification   (e.g. if it uses a `sigmoid` last-layer activation).\n",
      "  warnings.warn('`model.predict_classes()` is deprecated and '\n"
     ]
    }
   ],
   "source": [
    "y_pred_class = model_1.predict_classes(X_test)"
   ]
  },
  {
   "cell_type": "code",
   "execution_count": 64,
   "id": "442c21f6",
   "metadata": {},
   "outputs": [
    {
     "data": {
      "text/plain": [
       "array([6, 2, 7, ..., 4, 6, 8], dtype=int64)"
      ]
     },
     "execution_count": 64,
     "metadata": {},
     "output_type": "execute_result"
    }
   ],
   "source": [
    "y_pred_class"
   ]
  },
  {
   "cell_type": "code",
   "execution_count": 59,
   "id": "7b618854",
   "metadata": {},
   "outputs": [
    {
     "data": {
      "text/plain": [
       "array([[0., 0., 0., ..., 0., 0., 0.],\n",
       "       [0., 0., 1., ..., 0., 0., 0.],\n",
       "       [0., 0., 0., ..., 1., 0., 0.],\n",
       "       ...,\n",
       "       [0., 0., 0., ..., 0., 0., 0.],\n",
       "       [0., 0., 0., ..., 0., 0., 0.],\n",
       "       [0., 0., 0., ..., 0., 1., 0.]], dtype=float32)"
      ]
     },
     "execution_count": 59,
     "metadata": {},
     "output_type": "execute_result"
    }
   ],
   "source": [
    "y_test"
   ]
  },
  {
   "cell_type": "code",
   "execution_count": 65,
   "id": "64f57597",
   "metadata": {},
   "outputs": [],
   "source": [
    "#y_test는 onehotencoding 되어있음\n",
    "# np.argmax => 가장 큰 값이 몇번째 칼럼에 있는지 알려줌\n",
    "y_test_class = np.argmax(y_test, axis=1)"
   ]
  },
  {
   "cell_type": "code",
   "execution_count": 66,
   "id": "2d843bfd",
   "metadata": {},
   "outputs": [
    {
     "name": "stdout",
     "output_type": "stream",
     "text": [
      "[[1890    1   71   26   13   19    8    5   25   18]\n",
      " [   4 2299   14   15    0    0    0   13   41    4]\n",
      " [  50    8 1792  120   20    5   11   15   92   11]\n",
      " [   3    6   57 1927    2   28    1   47   83   11]\n",
      " [   8    7   14    0 1868    0   12   18   56   80]\n",
      " [  26    3   20  190    7 1541   16   12   76   32]\n",
      " [  40    2   31    0    7   35 1821    2   59    2]\n",
      " [   3    4    6   66   22    4    3 1924   33   91]\n",
      " [  11   32   27  123    8   49    3   23 1696   76]\n",
      " [  11    4    4   33   44    5    4  197   53 1701]]\n"
     ]
    }
   ],
   "source": [
    "print(confusion_matrix(y_test_class, y_pred_class))"
   ]
  },
  {
   "cell_type": "code",
   "execution_count": 76,
   "id": "3e81681d",
   "metadata": {},
   "outputs": [
    {
     "data": {
      "text/plain": [
       "Text(0.5, 1.0, 'LOSS')"
      ]
     },
     "execution_count": 76,
     "metadata": {},
     "output_type": "execute_result"
    },
    {
     "data": {
      "image/png": "[encoded data removed]",
      "text/plain": [
       "<Figure size 864x576 with 2 Axes>"
      ]
     },
     "metadata": {
      "needs_background": "light"
     },
     "output_type": "display_data"
    }
   ],
   "source": [
    "import matplotlib.pyplot as plt\n",
    "\n",
    "plt.figure(figsize=(12,8))\n",
    "plt.subplot(1,2,1)\n",
    "plt.plot(hist.history['accuracy'], color='blue', linestyle='--', label='train')\n",
    "plt.plot(hist.history['val_accuracy'], color='red', label='validation')\n",
    "plt.xlabel('epoch', fontsize=15)\n",
    "plt.ylabel('accuracy', fontsize=15)\n",
    "plt.title('ACCURACY', fontsize=18)\n",
    "plt.legend(fontsize=15)\n",
    "plt.subplot(1,2,2)\n",
    "plt.plot(hist.history['loss'], color='blue', linestyle='--', label='train')\n",
    "plt.plot(hist.history['val_loss'], color='red', label='validation')\n",
    "plt.xlabel('epoch', fontsize=15)\n",
    "plt.ylabel('loss', fontsize=15)\n",
    "plt.title('LOSS', fontsize=18)"
   ]
  },
  {
   "cell_type": "code",
   "execution_count": null,
   "id": "eef59c49",
   "metadata": {},
   "outputs": [],
   "source": []
  }
 ],
 "metadata": {
  "kernelspec": {
   "display_name": "Python 3",
   "language": "python",
   "name": "python3"
  },
  "language_info": {
   "codemirror_mode": {
    "name": "ipython",
    "version": 3
   },
   "file_extension": ".py",
   "mimetype": "text/x-python",
   "name": "python",
   "nbconvert_exporter": "python",
   "pygments_lexer": "ipython3",
   "version": "3.8.8"
  }
 },
 "nbformat": 4,
 "nbformat_minor": 5
}
