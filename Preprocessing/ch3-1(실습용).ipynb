{
 "cells": [
  {
   "cell_type": "markdown",
   "metadata": {},
   "source": [
    "# 실무예제 3-1"
   ]
  },
  {
   "cell_type": "markdown",
   "metadata": {},
   "source": [
    "## 다음은 2013년 전국 주요지점별 유동인구 수 현황의 일부이다. 남자20대 vs. 여자20대, 남자10대 vs. 여자50대의 상관계수를 구하여 비교해 보고, 중복 속성으로 판단할 수 있을지 검토해 보시오."
   ]
  },
  {
   "cell_type": "markdown",
   "metadata": {},
   "source": [
    "### 데이터 파일 : ch3-1(유동인구수).csv"
   ]
  },
  {
   "cell_type": "markdown",
   "metadata": {},
   "source": [
    "### 원본 투플수 : 23,221개"
   ]
  },
  {
   "cell_type": "code",
   "execution_count": 1,
   "metadata": {},
   "outputs": [],
   "source": [
    "# ch3-1.py\n",
    "import pandas as pd\n",
    "import numpy as np\n",
    "\n",
    "# matplotlib : 자료를 차트(chart)나 플롯(plot)으로 시각화(visulaization)하는 패키지\n",
    "# pyplot : matlab이라는 수치해석 소프트웨어의 시각화 명령을 거의 그대로 사용할 수 있도록 \n",
    "#          Matplotlib 의 하위 API를 포장(wrapping)한 명령어 집합을 제공\n",
    "import matplotlib.pyplot as plt\n",
    "\n",
    "# 데이터로드 (ch3-1.csv : 데이터 원본 파일)\n",
    "# encoding : 윈도우즈 환경에서의 한글 처리\n",
    "# engine : python 3.6에서 한글이 포함된 파일이름 사용\n",
    "rawData = pd.read_csv('.jupyter/ch3-1(유동인구수).csv', encoding='CP949', engine='python')"
   ]
  },
  {
   "cell_type": "code",
   "execution_count": 2,
   "metadata": {},
   "outputs": [
    {
     "data": {
      "text/html": [
       "<div>\n",
       "<style scoped>\n",
       "    .dataframe tbody tr th:only-of-type {\n",
       "        vertical-align: middle;\n",
       "    }\n",
       "\n",
       "    .dataframe tbody tr th {\n",
       "        vertical-align: top;\n",
       "    }\n",
       "\n",
       "    .dataframe thead th {\n",
       "        text-align: right;\n",
       "    }\n",
       "</style>\n",
       "<table border=\"1\" class=\"dataframe\">\n",
       "  <thead>\n",
       "    <tr style=\"text-align: right;\">\n",
       "      <th></th>\n",
       "      <th>조사일자</th>\n",
       "      <th>시간대</th>\n",
       "      <th>X좌표</th>\n",
       "      <th>Y좌표</th>\n",
       "      <th>행정구역명</th>\n",
       "      <th>남자10대</th>\n",
       "      <th>남자20대</th>\n",
       "      <th>남자30대</th>\n",
       "      <th>남자40대</th>\n",
       "      <th>남자50대</th>\n",
       "      <th>여자10대</th>\n",
       "      <th>여자20대</th>\n",
       "      <th>여자30대</th>\n",
       "      <th>여자40대</th>\n",
       "      <th>여자50대</th>\n",
       "    </tr>\n",
       "  </thead>\n",
       "  <tbody>\n",
       "    <tr>\n",
       "      <th>0</th>\n",
       "      <td>2010-06-21</td>\n",
       "      <td>12시~13시까지</td>\n",
       "      <td>343099</td>\n",
       "      <td>417482</td>\n",
       "      <td>대전광역시 서구 월평동</td>\n",
       "      <td>2</td>\n",
       "      <td>24</td>\n",
       "      <td>68</td>\n",
       "      <td>50</td>\n",
       "      <td>31</td>\n",
       "      <td>4</td>\n",
       "      <td>37</td>\n",
       "      <td>64</td>\n",
       "      <td>44</td>\n",
       "      <td>26</td>\n",
       "    </tr>\n",
       "    <tr>\n",
       "      <th>1</th>\n",
       "      <td>2010-06-21</td>\n",
       "      <td>19시~20시까지</td>\n",
       "      <td>343099</td>\n",
       "      <td>417482</td>\n",
       "      <td>대전광역시 서구 월평동</td>\n",
       "      <td>19</td>\n",
       "      <td>44</td>\n",
       "      <td>28</td>\n",
       "      <td>33</td>\n",
       "      <td>21</td>\n",
       "      <td>14</td>\n",
       "      <td>56</td>\n",
       "      <td>49</td>\n",
       "      <td>43</td>\n",
       "      <td>18</td>\n",
       "    </tr>\n",
       "    <tr>\n",
       "      <th>2</th>\n",
       "      <td>2010-06-20</td>\n",
       "      <td>12시~13시까지</td>\n",
       "      <td>343099</td>\n",
       "      <td>417482</td>\n",
       "      <td>대전광역시 서구 월평동</td>\n",
       "      <td>13</td>\n",
       "      <td>33</td>\n",
       "      <td>34</td>\n",
       "      <td>61</td>\n",
       "      <td>55</td>\n",
       "      <td>13</td>\n",
       "      <td>32</td>\n",
       "      <td>29</td>\n",
       "      <td>28</td>\n",
       "      <td>12</td>\n",
       "    </tr>\n",
       "    <tr>\n",
       "      <th>3</th>\n",
       "      <td>2010-06-20</td>\n",
       "      <td>19시~20시까지</td>\n",
       "      <td>343099</td>\n",
       "      <td>417482</td>\n",
       "      <td>대전광역시 서구 월평동</td>\n",
       "      <td>23</td>\n",
       "      <td>33</td>\n",
       "      <td>32</td>\n",
       "      <td>547</td>\n",
       "      <td>129</td>\n",
       "      <td>12</td>\n",
       "      <td>39</td>\n",
       "      <td>13</td>\n",
       "      <td>46</td>\n",
       "      <td>4</td>\n",
       "    </tr>\n",
       "    <tr>\n",
       "      <th>4</th>\n",
       "      <td>2010-06-21</td>\n",
       "      <td>12시~13시까지</td>\n",
       "      <td>343121</td>\n",
       "      <td>417343</td>\n",
       "      <td>대전광역시 서구 월평동</td>\n",
       "      <td>0</td>\n",
       "      <td>9</td>\n",
       "      <td>27</td>\n",
       "      <td>21</td>\n",
       "      <td>6</td>\n",
       "      <td>5</td>\n",
       "      <td>24</td>\n",
       "      <td>20</td>\n",
       "      <td>10</td>\n",
       "      <td>6</td>\n",
       "    </tr>\n",
       "    <tr>\n",
       "      <th>...</th>\n",
       "      <td>...</td>\n",
       "      <td>...</td>\n",
       "      <td>...</td>\n",
       "      <td>...</td>\n",
       "      <td>...</td>\n",
       "      <td>...</td>\n",
       "      <td>...</td>\n",
       "      <td>...</td>\n",
       "      <td>...</td>\n",
       "      <td>...</td>\n",
       "      <td>...</td>\n",
       "      <td>...</td>\n",
       "      <td>...</td>\n",
       "      <td>...</td>\n",
       "      <td>...</td>\n",
       "    </tr>\n",
       "    <tr>\n",
       "      <th>23216</th>\n",
       "      <td>2010-07-03</td>\n",
       "      <td>19시~20시까지</td>\n",
       "      <td>316493</td>\n",
       "      <td>506876</td>\n",
       "      <td>경기도 오산시 궐동</td>\n",
       "      <td>20</td>\n",
       "      <td>55</td>\n",
       "      <td>60</td>\n",
       "      <td>56</td>\n",
       "      <td>26</td>\n",
       "      <td>22</td>\n",
       "      <td>45</td>\n",
       "      <td>34</td>\n",
       "      <td>25</td>\n",
       "      <td>15</td>\n",
       "    </tr>\n",
       "    <tr>\n",
       "      <th>23217</th>\n",
       "      <td>2010-07-07</td>\n",
       "      <td>12시~13시까지</td>\n",
       "      <td>295242</td>\n",
       "      <td>498726</td>\n",
       "      <td>경기도 화성시 장안면</td>\n",
       "      <td>11</td>\n",
       "      <td>17</td>\n",
       "      <td>22</td>\n",
       "      <td>35</td>\n",
       "      <td>40</td>\n",
       "      <td>8</td>\n",
       "      <td>15</td>\n",
       "      <td>33</td>\n",
       "      <td>25</td>\n",
       "      <td>42</td>\n",
       "    </tr>\n",
       "    <tr>\n",
       "      <th>23218</th>\n",
       "      <td>2010-07-07</td>\n",
       "      <td>19시~20시까지</td>\n",
       "      <td>295242</td>\n",
       "      <td>498726</td>\n",
       "      <td>경기도 화성시 장안면</td>\n",
       "      <td>25</td>\n",
       "      <td>13</td>\n",
       "      <td>29</td>\n",
       "      <td>23</td>\n",
       "      <td>55</td>\n",
       "      <td>31</td>\n",
       "      <td>17</td>\n",
       "      <td>37</td>\n",
       "      <td>19</td>\n",
       "      <td>45</td>\n",
       "    </tr>\n",
       "    <tr>\n",
       "      <th>23219</th>\n",
       "      <td>2010-07-10</td>\n",
       "      <td>12시~13시까지</td>\n",
       "      <td>295242</td>\n",
       "      <td>498726</td>\n",
       "      <td>경기도 화성시 장안면</td>\n",
       "      <td>12</td>\n",
       "      <td>15</td>\n",
       "      <td>35</td>\n",
       "      <td>31</td>\n",
       "      <td>45</td>\n",
       "      <td>10</td>\n",
       "      <td>12</td>\n",
       "      <td>31</td>\n",
       "      <td>25</td>\n",
       "      <td>37</td>\n",
       "    </tr>\n",
       "    <tr>\n",
       "      <th>23220</th>\n",
       "      <td>2010-07-10</td>\n",
       "      <td>19시~20시까지</td>\n",
       "      <td>295242</td>\n",
       "      <td>498726</td>\n",
       "      <td>경기도 화성시 장안면</td>\n",
       "      <td>15</td>\n",
       "      <td>20</td>\n",
       "      <td>32</td>\n",
       "      <td>27</td>\n",
       "      <td>42</td>\n",
       "      <td>12</td>\n",
       "      <td>18</td>\n",
       "      <td>29</td>\n",
       "      <td>31</td>\n",
       "      <td>43</td>\n",
       "    </tr>\n",
       "  </tbody>\n",
       "</table>\n",
       "<p>23221 rows × 15 columns</p>\n",
       "</div>"
      ],
      "text/plain": [
       "             조사일자        시간대     X좌표     Y좌표         행정구역명  남자10대  남자20대  \\\n",
       "0      2010-06-21  12시~13시까지  343099  417482  대전광역시 서구 월평동      2     24   \n",
       "1      2010-06-21  19시~20시까지  343099  417482  대전광역시 서구 월평동     19     44   \n",
       "2      2010-06-20  12시~13시까지  343099  417482  대전광역시 서구 월평동     13     33   \n",
       "3      2010-06-20  19시~20시까지  343099  417482  대전광역시 서구 월평동     23     33   \n",
       "4      2010-06-21  12시~13시까지  343121  417343  대전광역시 서구 월평동      0      9   \n",
       "...           ...        ...     ...     ...           ...    ...    ...   \n",
       "23216  2010-07-03  19시~20시까지  316493  506876    경기도 오산시 궐동     20     55   \n",
       "23217  2010-07-07  12시~13시까지  295242  498726   경기도 화성시 장안면     11     17   \n",
       "23218  2010-07-07  19시~20시까지  295242  498726   경기도 화성시 장안면     25     13   \n",
       "23219  2010-07-10  12시~13시까지  295242  498726   경기도 화성시 장안면     12     15   \n",
       "23220  2010-07-10  19시~20시까지  295242  498726   경기도 화성시 장안면     15     20   \n",
       "\n",
       "       남자30대  남자40대  남자50대  여자10대  여자20대  여자30대  여자40대  여자50대  \n",
       "0         68     50     31      4     37     64     44     26  \n",
       "1         28     33     21     14     56     49     43     18  \n",
       "2         34     61     55     13     32     29     28     12  \n",
       "3         32    547    129     12     39     13     46      4  \n",
       "4         27     21      6      5     24     20     10      6  \n",
       "...      ...    ...    ...    ...    ...    ...    ...    ...  \n",
       "23216     60     56     26     22     45     34     25     15  \n",
       "23217     22     35     40      8     15     33     25     42  \n",
       "23218     29     23     55     31     17     37     19     45  \n",
       "23219     35     31     45     10     12     31     25     37  \n",
       "23220     32     27     42     12     18     29     31     43  \n",
       "\n",
       "[23221 rows x 15 columns]"
      ]
     },
     "execution_count": 2,
     "metadata": {},
     "output_type": "execute_result"
    }
   ],
   "source": [
    "rawData"
   ]
  },
  {
   "cell_type": "code",
   "execution_count": 8,
   "metadata": {},
   "outputs": [
    {
     "data": {
      "text/html": [
       "<div>\n",
       "<style scoped>\n",
       "    .dataframe tbody tr th:only-of-type {\n",
       "        vertical-align: middle;\n",
       "    }\n",
       "\n",
       "    .dataframe tbody tr th {\n",
       "        vertical-align: top;\n",
       "    }\n",
       "\n",
       "    .dataframe thead th {\n",
       "        text-align: right;\n",
       "    }\n",
       "</style>\n",
       "<table border=\"1\" class=\"dataframe\">\n",
       "  <thead>\n",
       "    <tr style=\"text-align: right;\">\n",
       "      <th></th>\n",
       "      <th>남자20대</th>\n",
       "      <th>여자20대</th>\n",
       "    </tr>\n",
       "  </thead>\n",
       "  <tbody>\n",
       "    <tr>\n",
       "      <th>남자20대</th>\n",
       "      <td>1.00000</td>\n",
       "      <td>0.84728</td>\n",
       "    </tr>\n",
       "    <tr>\n",
       "      <th>여자20대</th>\n",
       "      <td>0.84728</td>\n",
       "      <td>1.00000</td>\n",
       "    </tr>\n",
       "  </tbody>\n",
       "</table>\n",
       "</div>"
      ],
      "text/plain": [
       "         남자20대    여자20대\n",
       "남자20대  1.00000  0.84728\n",
       "여자20대  0.84728  1.00000"
      ]
     },
     "execution_count": 8,
     "metadata": {},
     "output_type": "execute_result"
    }
   ],
   "source": [
    "# 상관계수 분석 (남자20대 vs. 여자20대)\n",
    "corr = np.corrcoef(rawData['남자20대'], rawData['여자20대'])\n",
    "rawData[['남자20대','여자20대']].corr()"
   ]
  },
  {
   "cell_type": "markdown",
   "metadata": {},
   "source": [
    "### np.corrcoef() : 인수로 사용된 두 속성 간의 상관계수를 구하는 numpy 패키지 함수"
   ]
  },
  {
   "cell_type": "code",
   "execution_count": 6,
   "metadata": {},
   "outputs": [
    {
     "name": "stdout",
     "output_type": "stream",
     "text": [
      "-- 상관계수(남자20대 vs. 여자20대) --\n",
      "[[1.         0.84727982]\n",
      " [0.84727982 1.        ]]\n"
     ]
    }
   ],
   "source": [
    "print(\"-- 상관계수(남자20대 vs. 여자20대) --\")\n",
    "print(corr)"
   ]
  },
  {
   "cell_type": "markdown",
   "metadata": {},
   "source": [
    "### 남자20대와 여자20대의 상관계수는 0.84 이상으로 두 속성 사이에는 강한 양의 상관관계가 존재\n",
    "### -> 남자20대와 여자20대을 중복 속성으로 판단하여 하나의 속성을 분석 대상에서 제외해도 전체적인 분석결과에는 큰 영향을 미치지 않을 것으로 추정할 수 있음"
   ]
  },
  {
   "cell_type": "code",
   "execution_count": 9,
   "metadata": {},
   "outputs": [
    {
     "data": {
      "image/png": "[encoded data removed]",
      "text/plain": [
       "<Figure size 360x360 with 1 Axes>"
      ]
     },
     "metadata": {
      "needs_background": "light"
     },
     "output_type": "display_data"
    }
   ],
   "source": [
    "# 차트 사이즈 설정 (inch 단위)\n",
    "plt.figure(figsize=(5,5))\n",
    "# scatter() : 산점도(scatter plot)를 그려주는 함수\n",
    "plt.scatter(rawData['남자20대'],rawData['여자20대'])\n",
    "# 차트 보여주기\n",
    "plt.show()"
   ]
  },
  {
   "cell_type": "markdown",
   "metadata": {},
   "source": [
    "### figure() : 차트 환경을 설정하는 matplotlib.pyplot 패키지 함수\n",
    "### scatter() : 산점도 차트를 그리는 함수\n",
    "### show() : 차트를 화면에 출력하는 함수"
   ]
  },
  {
   "cell_type": "code",
   "execution_count": 10,
   "metadata": {},
   "outputs": [
    {
     "name": "stdout",
     "output_type": "stream",
     "text": [
      "-- 상관계수(남자10대 vs. 여자50대) --\n",
      "[[1.         0.26322329]\n",
      " [0.26322329 1.        ]]\n"
     ]
    },
    {
     "data": {
      "image/png": "[encoded data removed]",
      "text/plain": [
       "<Figure size 432x288 with 1 Axes>"
      ]
     },
     "metadata": {
      "needs_background": "light"
     },
     "output_type": "display_data"
    }
   ],
   "source": [
    "# 상관계수 분석 (남자10대 vs. 여자50대)\n",
    "corr1 = np.corrcoef(rawData['남자10대'],rawData['여자50대'])\n",
    "print(\"-- 상관계수(남자10대 vs. 여자50대) --\")\n",
    "print(corr1)\n",
    "# 상관계수가 0.3이하이면 상관관계가 없다고 판단한다.\n",
    "# 차트 그리기\n",
    "plt.scatter(rawData['남자10대'],rawData['여자50대'])\n",
    "plt.show()"
   ]
  },
  {
   "cell_type": "markdown",
   "metadata": {},
   "source": [
    "### 남자10대와 여자50대의 상관계수는 0.26 정도로 두 속성 사이의 상관관계는 약한 양의 상관관계로 볼 수 있음"
   ]
  }
 ],
 "metadata": {
  "kernelspec": {
   "display_name": "Python 3",
   "language": "python",
   "name": "python3"
  },
  "language_info": {
   "codemirror_mode": {
    "name": "ipython",
    "version": 3
   },
   "file_extension": ".py",
   "mimetype": "text/x-python",
   "name": "python",
   "nbconvert_exporter": "python",
   "pygments_lexer": "ipython3",
   "version": "3.8.8"
  }
 },
 "nbformat": 4,
 "nbformat_minor": 2
}
